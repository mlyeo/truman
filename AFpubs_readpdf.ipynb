{
  "nbformat": 4,
  "nbformat_minor": 0,
  "metadata": {
    "colab": {
      "provenance": [],
      "include_colab_link": true
    },
    "kernelspec": {
      "name": "python3",
      "display_name": "Python 3"
    },
    "language_info": {
      "name": "python"
    }
  },
  "cells": [
    {
      "cell_type": "markdown",
      "metadata": {
        "id": "view-in-github",
        "colab_type": "text"
      },
      "source": [
        "<a href=\"https://colab.research.google.com/github/mlyeo/truman/blob/master/AFpubs_readpdf.ipynb\" target=\"_parent\"><img src=\"https://colab.research.google.com/assets/colab-badge.svg\" alt=\"Open In Colab\"/></a>"
      ]
    },
    {
      "cell_type": "code",
      "source": [
        "pip install PyPDF2"
      ],
      "metadata": {
        "colab": {
          "base_uri": "https://localhost:8080/"
        },
        "id": "Y63_4Svbn6F6",
        "outputId": "1bb1722e-da0e-43d2-b4c6-4f527a812c11"
      },
      "execution_count": 2,
      "outputs": [
        {
          "output_type": "stream",
          "name": "stdout",
          "text": [
            "Collecting PyPDF2\n",
            "  Downloading pypdf2-3.0.1-py3-none-any.whl (232 kB)\n",
            "\u001b[?25l     \u001b[90m━━━━━━━━━━━━━━━━━━━━━━━━━━━━━━━━━━━━━━━━\u001b[0m \u001b[32m0.0/232.6 kB\u001b[0m \u001b[31m?\u001b[0m eta \u001b[36m-:--:--\u001b[0m\r\u001b[2K     \u001b[91m━━━━━━━━━━━━━━━\u001b[0m\u001b[91m╸\u001b[0m\u001b[90m━━━━━━━━━━━━━━━━━━━━━━━━\u001b[0m \u001b[32m92.2/232.6 kB\u001b[0m \u001b[31m2.5 MB/s\u001b[0m eta \u001b[36m0:00:01\u001b[0m\r\u001b[2K     \u001b[90m━━━━━━━━━━━━━━━━━━━━━━━━━━━━━━━━━━━━━━━\u001b[0m \u001b[32m232.6/232.6 kB\u001b[0m \u001b[31m3.9 MB/s\u001b[0m eta \u001b[36m0:00:00\u001b[0m\n",
            "\u001b[?25hInstalling collected packages: PyPDF2\n",
            "Successfully installed PyPDF2-3.0.1\n"
          ]
        }
      ]
    },
    {
      "cell_type": "code",
      "source": [
        "import PyPDF2\n",
        "\n",
        "pdfFileObj = open('examplepdf.pdf', 'rb')\n",
        "\n",
        "# creating a pdf reader object\n",
        "pdfReader = PyPDF2.PdfReader(pdfFileObj)\n",
        "\n",
        "# printing number of pages in pdf file\n",
        "print(len(pdfReader.pages))\n",
        "\n",
        "# creating a page object\n",
        "pageObj = pdfReader.pages[0]\n",
        "\n",
        "# extracting text from page\n",
        "print(pageObj.extract_text())\n",
        "text=pageObj.extract_text()\n",
        "\n",
        "# closing the pdf file object\n",
        "pdfFileObj.close()"
      ],
      "metadata": {
        "id": "LYe5Q3w4jzvU",
        "outputId": "d7218ea0-bf10-447e-a74a-0da981f26f59",
        "colab": {
          "base_uri": "https://localhost:8080/",
          "height": 787
        }
      },
      "execution_count": 7,
      "outputs": [
        {
          "output_type": "stream",
          "name": "stdout",
          "text": [
            "1\n",
            "This is some random example ﬁle for playing with python text extrac�on from PDF.  Blah blah.  \n",
            " \n",
            "The problem lies in the fact that the allocation is uncoordinated. So the fi rst central idea of  \n",
            "the Amazon Fund should be to initiate an effort to make resource allocation more systematic  \n",
            "and eff icient.  \n",
            "There are signifi cant resources that cannot be allocated due to legal problems, because there  \n",
            "is no counterpart. And the sum is signifi cant. We’ re talking about more than R$ 500 million  \n",
            "in offi cial credit, but nothing has been implemented. Alongside thi s, the budget problem is  \n",
            "dramatic, cruel, desperate. Just this year the Ministry of the Environment was slashed again,  \n",
            "approximately 40%.  \n",
            "The second central idea is that the Amazon Fund is an opportunity to incubate a new funding  \n",
            "system. That is because, i n light of this budget crisis, in which there are funds that are not  \n",
            "allocable and effective remedies are in decline, I see the Amazon Fund as a way to incubate  \n",
            "new fundraising instruments. \n",
            "But we need to remove another thorn from the side of the reforesta tion issue: the Brazilian  \n",
            "federal government. We must remove barriers because we have great potential not only in  \n",
            "REDD, but also in reforestation, a forgotten issue.  \n",
            "Nobody says that there are practical constraints on reforestation projects under the Kyoto  \n",
            "Protocol to prevent, in practice, reforestation systems linked to volunteer credits. We have new  \n",
            "emerging markets, bio- banking (a bank for genetic research), biodiversity banks, water issues...  \n",
            "In the area of governance, there is the issue of forest easem ents, a very important area but  \n",
            "one which goes down the drain if the changes to the Forest Code being articulated by the rural  \n",
            "sector are approved. These changes, in themselves, will be suffi cient for all estimated targets  \n",
            "aimed at cutting deforestation to be reduced, and, consequently, there will be no carbon  \n",
            "credits obtained.  \n",
            "The BNDES ’ initiative is a great opportunity, because of the technical competence, the  \n",
            "political weight and the prestige that this entity has. Everybody respects the BNDES, and \n",
            "now you are expanding your role to the environmental area. This is very important because  \n",
            "we now have an ally; we have whom to turn to.  \n"
          ]
        },
        {
          "output_type": "error",
          "ename": "NameError",
          "evalue": "ignored",
          "traceback": [
            "\u001b[0;31m---------------------------------------------------------------------------\u001b[0m",
            "\u001b[0;31mNameError\u001b[0m                                 Traceback (most recent call last)",
            "\u001b[0;32m<ipython-input-7-697954353f7c>\u001b[0m in \u001b[0;36m<cell line: 17>\u001b[0;34m()\u001b[0m\n\u001b[1;32m     15\u001b[0m \u001b[0mprint\u001b[0m\u001b[0;34m(\u001b[0m\u001b[0mpageObj\u001b[0m\u001b[0;34m.\u001b[0m\u001b[0mextract_text\u001b[0m\u001b[0;34m(\u001b[0m\u001b[0;34m)\u001b[0m\u001b[0;34m)\u001b[0m\u001b[0;34m\u001b[0m\u001b[0;34m\u001b[0m\u001b[0m\n\u001b[1;32m     16\u001b[0m \u001b[0mtext\u001b[0m\u001b[0;34m=\u001b[0m\u001b[0mpageObj\u001b[0m\u001b[0;34m.\u001b[0m\u001b[0mextract_text\u001b[0m\u001b[0;34m(\u001b[0m\u001b[0;34m)\u001b[0m\u001b[0;34m\u001b[0m\u001b[0;34m\u001b[0m\u001b[0m\n\u001b[0;32m---> 17\u001b[0;31m \u001b[0mprint\u001b[0m\u001b[0;34m(\u001b[0m\u001b[0mtext\u001b[0m\u001b[0;34m,\u001b[0m \u001b[0msep\u001b[0m\u001b[0;34m=\u001b[0m\u001b[0;34m' '\u001b[0m\u001b[0;34m,\u001b[0m \u001b[0mend\u001b[0m\u001b[0;34m=\u001b[0m\u001b[0;34m'\\n'\u001b[0m\u001b[0;34m,\u001b[0m \u001b[0mfile\u001b[0m\u001b[0;34m=\u001b[0m\u001b[0mresultfile\u001b[0m\u001b[0;34m.\u001b[0m\u001b[0mtxt\u001b[0m\u001b[0;34m,\u001b[0m \u001b[0mflush\u001b[0m\u001b[0;34m=\u001b[0m\u001b[0;32mFalse\u001b[0m\u001b[0;34m)\u001b[0m\u001b[0;34m\u001b[0m\u001b[0;34m\u001b[0m\u001b[0m\n\u001b[0m\u001b[1;32m     18\u001b[0m \u001b[0;34m\u001b[0m\u001b[0m\n\u001b[1;32m     19\u001b[0m \u001b[0;31m# closing the pdf file object\u001b[0m\u001b[0;34m\u001b[0m\u001b[0;34m\u001b[0m\u001b[0m\n",
            "\u001b[0;31mNameError\u001b[0m: name 'resultfile' is not defined"
          ]
        }
      ]
    },
    {
      "cell_type": "code",
      "source": [
        "text"
      ],
      "metadata": {
        "colab": {
          "base_uri": "https://localhost:8080/",
          "height": 339
        },
        "id": "7Rdv-bjIochu",
        "outputId": "b91526a0-6ae2-4838-cf07-a7e86fe351f0"
      },
      "execution_count": 5,
      "outputs": [
        {
          "output_type": "execute_result",
          "data": {
            "text/plain": [
              "'This is some random example ﬁle for playing with python text extrac�on from PDF.  Blah blah.  \\n \\nThe problem lies in the fact that the allocation is uncoordinated. So the fi rst central idea of  \\nthe Amazon Fund should be to initiate an effort to make resource allocation more systematic  \\nand eff icient.  \\nThere are signifi cant resources that cannot be allocated due to legal problems, because there  \\nis no counterpart. And the sum is signifi cant. We’ re talking about more than R$ 500 million  \\nin offi cial credit, but nothing has been implemented. Alongside thi s, the budget problem is  \\ndramatic, cruel, desperate. Just this year the Ministry of the Environment was slashed again,  \\napproximately 40%.  \\nThe second central idea is that the Amazon Fund is an opportunity to incubate a new funding  \\nsystem. That is because, i n light of this budget crisis, in which there are funds that are not  \\nallocable and effective remedies are in decline, I see the Amazon Fund as a way to incubate  \\nnew fundraising instruments. \\nBut we need to remove another thorn from the side of the reforesta tion issue: the Brazilian  \\nfederal government. We must remove barriers because we have great potential not only in  \\nREDD, but also in reforestation, a forgotten issue.  \\nNobody says that there are practical constraints on reforestation projects under the Kyoto  \\nProtocol to prevent, in practice, reforestation systems linked to volunteer credits. We have new  \\nemerging markets, bio- banking (a bank for genetic research), biodiversity banks, water issues...  \\nIn the area of governance, there is the issue of forest easem ents, a very important area but  \\none which goes down the drain if the changes to the Forest Code being articulated by the rural  \\nsector are approved. These changes, in themselves, will be suffi cient for all estimated targets  \\naimed at cutting deforestation to be reduced, and, consequently, there will be no carbon  \\ncredits obtained.  \\nThe BNDES ’ initiative is a great opportunity, because of the technical competence, the  \\npolitical weight and the prestige that this entity has. Everybody respects the BNDES, and \\nnow you are expanding your role to the environmental area. This is very important because  \\nwe now have an ally; we have whom to turn to.  '"
            ],
            "application/vnd.google.colaboratory.intrinsic+json": {
              "type": "string"
            }
          },
          "metadata": {},
          "execution_count": 5
        }
      ]
    },
    {
      "cell_type": "markdown",
      "source": [],
      "metadata": {
        "id": "l1gXnlqpodU8"
      }
    },
    {
      "cell_type": "markdown",
      "source": [],
      "metadata": {
        "id": "_WIbKWlZoduQ"
      }
    },
    {
      "cell_type": "code",
      "source": [],
      "metadata": {
        "id": "61_42TR1oeKY"
      },
      "execution_count": null,
      "outputs": []
    },
    {
      "cell_type": "markdown",
      "source": [
        "# New Section"
      ],
      "metadata": {
        "id": "tDALd7ezkGu-"
      }
    }
  ]
}